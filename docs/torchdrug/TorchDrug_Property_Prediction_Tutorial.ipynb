{
  "nbformat": 4,
  "nbformat_minor": 0,
  "metadata": {
    "colab": {
      "name": "TorchDrug Property Prediction Tutorial.ipynb",
      "provenance": [],
      "collapsed_sections": [],
      "include_colab_link": true
    },
    "kernelspec": {
      "name": "python3",
      "display_name": "Python 3"
    },
    "language_info": {
      "name": "python"
    },
    "accelerator": "GPU"
  },
  "cells": [
    {
      "cell_type": "markdown",
      "metadata": {
        "id": "view-in-github",
        "colab_type": "text"
      },
      "source": [
        "<a href=\"https://colab.research.google.com/github/kadeng/uvadlc_notebooks/blob/master/docs/torchdrug/TorchDrug_Property_Prediction_Tutorial.ipynb\" target=\"_parent\"><img src=\"https://colab.research.google.com/assets/colab-badge.svg\" alt=\"Open In Colab\"/></a>"
      ]
    },
    {
      "cell_type": "markdown",
      "metadata": {
        "id": "GQPnwWiVdZ1p"
      },
      "source": [
        "### Introduction\n",
        "\n",
        "In this tutorial, we will learn how to use TorchDrug to train a graph neural network for **molecule property prediction**. Property prediction is aimed at predicting the chemical properties of a molecule based on its graph structure and features.\n",
        "\n",
        "### Manual Steps\n",
        "\n",
        "1.   Get your own copy of this file via \"File > Save a copy in Drive...\",\n",
        "2.   Set the runtime to **GPU** via \"Runtime > Change runtime type...\"\n",
        "\n",
        "### Colab Tutorials\n",
        "\n",
        "#### Quick Start\n",
        "1. [Basic Usage and Pipeline](https://colab.research.google.com/drive/1Tbnr1Fog_YjkqU1MOhcVLuxqZ4DC-c8-#forceEdit=true&sandboxMode=true)\n",
        "\n",
        "#### Drug Discovery Tasks\n",
        "1. [Property Prediction](https://colab.research.google.com/drive/1sb2w3evdEWm-GYo28RksvzJ74p63xHMn?usp=sharing#forceEdit=true&sandboxMode=true)\n",
        "2. [Pretrained Molecular Representations](https://colab.research.google.com/drive/10faCIVIfln20f2h1oQk2UrXiAMqZKLoW?usp=sharing#forceEdit=true&sandboxMode=true)\n",
        "3. [De Novo Molecule Design](https://colab.research.google.com/drive/1JEMiMvSBuqCuzzREYpviNZZRVOYsgivA?usp=sharing#forceEdit=true&sandboxMode=true)\n",
        "4. [Retrosynthesis](https://colab.research.google.com/drive/1IH1hk7K3MaxAEe5m6CFY7Eyej3RuiEL1?usp=sharing#forceEdit=true&sandboxMode=true)\n",
        "5. [Knowledge Graph Reasoning](https://colab.research.google.com/drive/1-sjqQZhYrGM0HiMuaqXOiqhDNlJi7g_I?usp=sharing#forceEdit=true&sandboxMode=true)\n"
      ]
    },
    {
      "cell_type": "code",
      "metadata": {
        "id": "CpM2xMHNyPlr"
      },
      "source": [
        "import os\n",
        "import torch\n",
        "os.environ[\"TORCH_VERSION\"] = torch.__version__\n",
        "\n",
        "!pip install torch-scatter -f https://pytorch-geometric.com/whl/torch-$TORCH_VERSION.html\n",
        "!pip install torchdrug"
      ],
      "execution_count": null,
      "outputs": []
    },
    {
      "cell_type": "markdown",
      "metadata": {
        "id": "BFmpTG8ccZQJ"
      },
      "source": [
        "# Prepare the Dataset\n",
        "We use ClinTox dataset for illustration. ClinTox contains 1,484 molecules labeled with FDA approvment status and toxity status in clinical trials.\n",
        "\n",
        "Here we download the dataset and split it into training, validation and test sets. The splits for train/valid/test sets are 80%, 10% and 10% respectively.\n",
        "\n"
      ]
    },
    {
      "cell_type": "code",
      "metadata": {
        "id": "Xb8oU4BZUCmu"
      },
      "source": [
        "import torch\n",
        "from torchdrug import data, datasets\n",
        "\n",
        "dataset = datasets.ClinTox(\"~/molecule-datasets/\")\n",
        "lengths = [int(0.8 * len(dataset)), int(0.1 * len(dataset))]\n",
        "lengths += [len(dataset) - sum(lengths)]\n",
        "train_set, valid_set, test_set = torch.utils.data.random_split(dataset, lengths)"
      ],
      "execution_count": null,
      "outputs": []
    },
    {
      "cell_type": "markdown",
      "metadata": {
        "id": "9X0nSAoGUNBl"
      },
      "source": [
        "Let’s visualize some samples from the dataset."
      ]
    },
    {
      "cell_type": "code",
      "metadata": {
        "id": "PYuCkxBGUPgQ"
      },
      "source": [
        "%matplotlib inline\n",
        "graphs = []\n",
        "labels = []\n",
        "for i in range(4):\n",
        "    sample = dataset[i]\n",
        "    graphs.append(sample.pop(\"graph\"))\n",
        "    label = [\"%s: %d\" % (k, v) for k, v in sample.items()]\n",
        "    label = \", \".join(label)\n",
        "    labels.append(label)\n",
        "graph = data.Molecule.pack(graphs)\n",
        "graph.visualize(labels, num_row=1)"
      ],
      "execution_count": null,
      "outputs": []
    },
    {
      "cell_type": "markdown",
      "metadata": {
        "id": "htz21au8cubx"
      },
      "source": [
        "# Define our Model\n",
        "\n",
        "The model consists of two parts, a task-independent graph representation model and a task-specific module. We define a Graph Isomorphism Network (GIN) with 4 hidden layers as our representation model. The two prediction tasks will be jointly optimized through multi-task training by the task-specific module.\n"
      ]
    },
    {
      "cell_type": "code",
      "metadata": {
        "id": "kq14KIdFUFtQ"
      },
      "source": [
        "from torchdrug import core, models, tasks, utils\n",
        "\n",
        "model = models.GIN(input_dim=dataset.node_feature_dim,\n",
        "                   hidden_dims=[256, 256, 256, 256],\n",
        "                   short_cut=True, batch_norm=True, concat_hidden=True)\n",
        "task = tasks.PropertyPrediction(model, task=dataset.tasks,\n",
        "                                criterion=\"bce\", metric=(\"auprc\", \"auroc\"))"
      ],
      "execution_count": null,
      "outputs": []
    },
    {
      "cell_type": "markdown",
      "metadata": {
        "id": "IyyIQIrAc0wN"
      },
      "source": [
        "# Train and Test\n",
        "Now we can train our model. We setup an optimizer for our model, and put everything together into an Engine instance. It may take a few minutes to train our model.\n",
        "\n"
      ]
    },
    {
      "cell_type": "code",
      "metadata": {
        "id": "rfWxU6j5b9rM"
      },
      "source": [
        "optimizer = torch.optim.Adam(task.parameters(), lr=1e-3)\n",
        "solver = core.Engine(task, train_set, valid_set, test_set, optimizer,\n",
        "                     gpus=[0], batch_size=1024)\n",
        "solver.train(num_epoch=100)\n",
        "solver.evaluate(\"valid\")"
      ],
      "execution_count": null,
      "outputs": []
    },
    {
      "cell_type": "markdown",
      "metadata": {
        "id": "Wx0udm7IemPn"
      },
      "source": [
        "To have some intuition of the model, we can investigate the predictions from our model. The following code selects one sample for each category, and plots the results.\n",
        "\n"
      ]
    },
    {
      "cell_type": "code",
      "metadata": {
        "id": "GYwFJlGAcQC-"
      },
      "source": [
        "from torch.nn import functional as F\n",
        "\n",
        "samples = []\n",
        "categories = set()\n",
        "for sample in valid_set:\n",
        "    category = tuple([v for k, v in sample.items() if k != \"graph\"])\n",
        "    if category not in categories:\n",
        "        categories.add(category)\n",
        "        samples.append(sample)\n",
        "samples = data.graph_collate(samples)\n",
        "samples = utils.cuda(samples)\n",
        "\n",
        "preds = F.sigmoid(task.predict(samples))\n",
        "targets = task.target(samples)\n",
        "\n",
        "titles = []\n",
        "for pred, target in zip(preds, targets):\n",
        "    pred = \", \".join([\"%.2f\" % p for p in pred])\n",
        "    target = \", \".join([\"%d\" % t for t in target])\n",
        "    titles.append(\"predict: %s\\ntarget: %s\" % (pred, target))\n",
        "graph = samples[\"graph\"]\n",
        "graph.visualize(titles, figure_size=(3, 3.5), num_row=1)"
      ],
      "execution_count": null,
      "outputs": []
    }
  ]
}